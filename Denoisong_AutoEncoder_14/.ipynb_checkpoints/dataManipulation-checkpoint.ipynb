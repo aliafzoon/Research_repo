{
 "cells": [
  {
   "cell_type": "code",
   "execution_count": 1,
   "id": "fossil-coach",
   "metadata": {},
   "outputs": [],
   "source": [
    "import numpy as np\n",
    "import pandas as pd\n",
    "import matplotlib.pyplot as plt\n",
    "import pathlib, h5py, os"
   ]
  },
  {
   "cell_type": "code",
   "execution_count": null,
   "id": "baking-jumping",
   "metadata": {
    "scrolled": true
   },
   "outputs": [],
   "source": [
    "\n",
    "train_raw = pd.read_excel(\"F:\\ML\\Tabriz Uni\\IEEE 14 Bus Phase - zero train.xlsx\", engine='openpyxl')\n",
    "\n",
    "test_raw = pd.read_excel(\"F:\\ML\\Tabriz Uni\\IEEE 14 Bus Phase - zero test.xlsx\", engine='openpyxl')\n",
    "\n",
    "print(\"train:\", train_raw.shape, \" test:\", test_raw.shape)\n",
    "print(test_raw)"
   ]
  },
  {
   "cell_type": "code",
   "execution_count": null,
   "id": "coral-diagram",
   "metadata": {},
   "outputs": [],
   "source": []
  },
  {
   "cell_type": "code",
   "execution_count": null,
   "id": "following-election",
   "metadata": {},
   "outputs": [],
   "source": [
    "# do a dc filter\n",
    "#find range of acceptable noise\n",
    "# use conv1d\n",
    "# usr conv, ltstm combo"
   ]
  },
  {
   "cell_type": "code",
   "execution_count": null,
   "id": "disciplinary-federation",
   "metadata": {},
   "outputs": [],
   "source": [
    "row0 = test_norm[\"P6\"] \n",
    "print(row0)\n",
    "x = range(0, len(row0))\n",
    "plt.plot(x,row0)\n",
    "plt.show()"
   ]
  },
  {
   "cell_type": "code",
   "execution_count": 2,
   "id": "alternate-strand",
   "metadata": {},
   "outputs": [],
   "source": [
    "data_all = pd.read_excel(\"F:\\ML\\Tabriz Uni\\IEEE 14 Bus - Merged.xlsx\", sheet_name=\"Phase\", engine='openpyxl')\n",
    "#data_all.head()"
   ]
  },
  {
   "cell_type": "code",
   "execution_count": 4,
   "id": "active-tampa",
   "metadata": {},
   "outputs": [
    {
     "ename": "NameError",
     "evalue": "name 'data_all' is not defined",
     "output_type": "error",
     "traceback": [
      "\u001b[1;31m---------------------------------------------------------------------------\u001b[0m",
      "\u001b[1;31mNameError\u001b[0m                                 Traceback (most recent call last)",
      "\u001b[1;32m<ipython-input-4-2167917884bb>\u001b[0m in \u001b[0;36m<module>\u001b[1;34m\u001b[0m\n\u001b[1;32m----> 1\u001b[1;33m \u001b[0mclean_all\u001b[0m \u001b[1;33m=\u001b[0m \u001b[0mpd\u001b[0m\u001b[1;33m.\u001b[0m\u001b[0mconcat\u001b[0m\u001b[1;33m(\u001b[0m\u001b[1;33m[\u001b[0m\u001b[0mdata_all\u001b[0m\u001b[1;33m[\u001b[0m\u001b[1;36m0\u001b[0m\u001b[1;33m:\u001b[0m\u001b[1;36m576\u001b[0m\u001b[1;33m]\u001b[0m\u001b[1;33m,\u001b[0m\u001b[0mdata_all\u001b[0m\u001b[1;33m[\u001b[0m\u001b[1;36m8640\u001b[0m\u001b[1;33m:\u001b[0m\u001b[1;36m9216\u001b[0m\u001b[1;33m]\u001b[0m\u001b[1;33m]\u001b[0m\u001b[1;33m)\u001b[0m\u001b[1;33m\u001b[0m\u001b[1;33m\u001b[0m\u001b[0m\n\u001b[0m\u001b[0;32m      2\u001b[0m \u001b[0mclean_all_14\u001b[0m \u001b[1;33m=\u001b[0m \u001b[0mclean_all\u001b[0m\u001b[1;33m\u001b[0m\u001b[1;33m\u001b[0m\u001b[0m\n\u001b[0;32m      3\u001b[0m \u001b[1;32mfor\u001b[0m \u001b[0mi\u001b[0m \u001b[1;32min\u001b[0m \u001b[0mrange\u001b[0m\u001b[1;33m(\u001b[0m\u001b[1;36m13\u001b[0m\u001b[1;33m)\u001b[0m\u001b[1;33m:\u001b[0m\u001b[1;33m\u001b[0m\u001b[1;33m\u001b[0m\u001b[0m\n\u001b[0;32m      4\u001b[0m     \u001b[0mclean_all_14\u001b[0m \u001b[1;33m=\u001b[0m \u001b[0mpd\u001b[0m\u001b[1;33m.\u001b[0m\u001b[0mconcat\u001b[0m\u001b[1;33m(\u001b[0m\u001b[1;33m[\u001b[0m\u001b[0mclean_all_14\u001b[0m\u001b[1;33m,\u001b[0m \u001b[0mclean_all\u001b[0m\u001b[1;33m]\u001b[0m\u001b[1;33m)\u001b[0m\u001b[1;33m\u001b[0m\u001b[1;33m\u001b[0m\u001b[0m\n\u001b[0;32m      5\u001b[0m \u001b[1;33m\u001b[0m\u001b[0m\n",
      "\u001b[1;31mNameError\u001b[0m: name 'data_all' is not defined"
     ]
    }
   ],
   "source": [
    "clean_all = pd.concat([data_all[0:576],data_all[8640:9216]])\n",
    "clean_all_14 = clean_all\n",
    "for i in range(13):   \n",
    "    clean_all_14 = pd.concat([clean_all_14, clean_all])\n",
    "    \n",
    "clean_all_14 = clean_all_14.reset_index()\n",
    "l_list_1 = [pd.DataFrame([]) for a in range(1,15)]\n",
    "l_list_2 = [pd.DataFrame([]) for a in range(16,30)]\n",
    "for i in range(1,15):\n",
    "    s = 576*i\n",
    "    k = 576*(i+15)\n",
    "    l_list_1[i-1] = data_all[s:s+576]\n",
    "    l_list_2[i-1] = data_all[k:k+576]\n",
    "\n",
    "l_list_all = [l_list_1[a] for a in range(0,14)]\n",
    "for i in range(0,14):\n",
    "    l_list_all[i] = pd.concat([l_list_1[i], l_list_2[i]], ignore_index=True)\n",
    "l_all = pd.concat([l_list_all[f] for f in range(0,14)])\n",
    "print(l_all.shape)\n",
    "print(clean_all_14.shape, clean_all_14.iloc[-1])\n",
    "#print(l_list_2[0].shape, l_list_2[13].iloc[-1])"
   ]
  },
  {
   "cell_type": "code",
   "execution_count": 36,
   "id": "documented-guarantee",
   "metadata": {
    "scrolled": true
   },
   "outputs": [
    {
     "name": "stdout",
     "output_type": "stream",
     "text": [
      "P1                0.000632\n",
      "P2               -0.090475\n",
      "P3               -0.219729\n",
      "P4               -0.182829\n",
      "P5               -0.156061\n",
      "P6               -0.260255\n",
      "P7               -0.245615\n",
      "P8               -0.248930\n",
      "P9               -0.271747\n",
      "P10              -0.273822\n",
      "P11              -0.270997\n",
      "P12              -0.278946\n",
      "P13              -0.269170\n",
      "P14              -0.305550\n",
      "Null1            -0.290000\n",
      "Null2            -0.290000\n",
      "Label          1414.000000\n",
      "index          9215.000000\n",
      "P1_clean          0.000632\n",
      "P2_clean         -0.090475\n",
      "P3_clean         -0.219729\n",
      "P4_clean         -0.182829\n",
      "P5_clean         -0.156061\n",
      "P6_clean         -0.260255\n",
      "P7_clean         -0.245615\n",
      "P8_clean         -0.248930\n",
      "P9_clean         -0.271747\n",
      "P10_clean        -0.273822\n",
      "P11_clean        -0.270997\n",
      "P12_clean        -0.278946\n",
      "P13_clean        -0.269170\n",
      "P14_clean        -0.277773\n",
      "Null1_clean      -0.290000\n",
      "Null2_clean      -0.290000\n",
      "Label_clean       0.000000\n",
      "Name: 1151, dtype: float64\n"
     ]
    }
   ],
   "source": [
    "\n",
    "#print(clean_all.head())\n",
    "together = l_all.join(clean_all_14, rsuffix=\"_clean\")\n",
    "print(together.iloc[-1])\n",
    "\n",
    "\n",
    "together.to_excel(\"F:\\ML\\Tabriz Uni\\Phase Full.xlsx\", sheet_name=\"Phase\", engine='openpyxl')"
   ]
  },
  {
   "cell_type": "code",
   "execution_count": 2,
   "id": "diverse-smith",
   "metadata": {},
   "outputs": [],
   "source": [
    "read_dataset = pd.read_excel(\"F:\\ML\\Tabriz Uni\\Phase Full.xlsx\", sheet_name=\"Phase\", engine='openpyxl')"
   ]
  },
  {
   "cell_type": "code",
   "execution_count": 3,
   "id": "severe-religious",
   "metadata": {},
   "outputs": [],
   "source": [
    "def normer(df):\n",
    "    src = pd.read_excel(\"F:\\ML\\Tabriz Uni\\\\minmax all.xlsx\", engine=\"openpyxl\")\n",
    "    orig_cl = df.columns.values\n",
    "    src.columns = orig_cl\n",
    "    minv = src.iloc[0]\n",
    "    maxv = src.iloc[1]   \n",
    "    df_norm = df.subtract(minv)\n",
    "    d_range = (maxv - minv)\n",
    "    df_norm = np.divide(df_norm, d_range)\n",
    "    return df_norm\n",
    "    "
   ]
  },
  {
   "cell_type": "code",
   "execution_count": 5,
   "id": "prescribed-cookie",
   "metadata": {
    "scrolled": true
   },
   "outputs": [],
   "source": [
    "noisy_data = read_dataset.iloc[:,1:15]\n",
    "\n",
    "label_data = read_dataset.iloc[:,19:33]\n",
    "#print(label_data.shape)\n",
    "\n",
    "label_data_norm = normer(label_data)\n",
    "noisy_data_norm = normer(noisy_data).join(read_dataset.iloc[:,17])\n",
    "#print(label_data_norm)"
   ]
  },
  {
   "cell_type": "code",
   "execution_count": 6,
   "id": "pregnant-holmes",
   "metadata": {},
   "outputs": [],
   "source": [
    "together = noisy_data_norm.join(label_data_norm, rsuffix='_clean')\n",
    "together.to_excel(\"F:\\ML\\Tabriz Uni\\Phase Full Norm w Label.xlsx\", sheet_name=\"Phase\", engine='openpyxl')"
   ]
  },
  {
   "cell_type": "code",
   "execution_count": 7,
   "id": "every-point",
   "metadata": {},
   "outputs": [],
   "source": [
    "read_dataset = pd.read_excel(\"F:\\ML\\Tabriz Uni\\Phase Full Norm w Label.xlsx\", sheet_name=\"Phase\", engine='openpyxl')"
   ]
  },
  {
   "cell_type": "code",
   "execution_count": 8,
   "id": "inappropriate-aquatic",
   "metadata": {},
   "outputs": [
    {
     "name": "stdout",
     "output_type": "stream",
     "text": [
      "no unnamed\n",
      "(2419, 29) (13709, 29) (16128, 29)\n"
     ]
    }
   ],
   "source": [
    "mixed_dataset = read_dataset.sample(frac=1)\n",
    "try:\n",
    "    mixed_dataset.drop(columns=\"Unnamed: 0\",inplace=True)\n",
    "except:\n",
    "    print(\"no unnamed\")\n",
    "\n",
    "test_data = mixed_dataset.sample(frac=0.15)\n",
    "test_indexes = test_data.index.to_list()\n",
    "train_data = mixed_dataset.drop(test_indexes, axis=0)\n",
    "print(test_data.shape, train_data.shape, mixed_dataset.shape)\n",
    "test_data.to_excel(\"F:\\ML\\Tabriz Uni\\Phase test mixed w label.xlsx\", sheet_name=\"Phase\", engine='openpyxl')\n",
    "train_data.to_excel(\"F:\\ML\\Tabriz Uni\\Phase train mixed w label.xlsx\", sheet_name=\"Phase\", engine='openpyxl')"
   ]
  },
  {
   "cell_type": "code",
   "execution_count": 86,
   "id": "abstract-security",
   "metadata": {},
   "outputs": [],
   "source": [
    "train = read_dataset = pd.read_excel(\"F:\\ML\\Tabriz Uni\\Phase Full.xlsx\", sheet_name=\"Phase\", engine='openpyxl')\n",
    "#train = train.sample(frac=1)\n",
    "#train.drop(columns=\"Unnamed: 0\",inplace=True)\n",
    "#train = train.abs()"
   ]
  },
  {
   "cell_type": "code",
   "execution_count": 63,
   "id": "moved-aerospace",
   "metadata": {},
   "outputs": [
    {
     "name": "stdout",
     "output_type": "stream",
     "text": [
      "train: (13000, 14, 1) (13000, 14, 1)  test: (3128, 14, 1) (3128, 14, 1)\n"
     ]
    }
   ],
   "source": [
    "\n",
    "train_features = np.expand_dims(train2.iloc[:13000, 0:14].to_numpy(), 2)\n",
    "train_labels = np.expand_dims(train2.iloc[:13000, 18:32].to_numpy(), 2)\n",
    "test_features = np.expand_dims(train2.iloc[13000:, 0:14].to_numpy(), 2)\n",
    "test_labels = np.expand_dims(train2.iloc[13000:, 18:32].to_numpy(), 2)\n",
    "print(\"train:\", train_features.shape, train_labels.shape, \" test:\", test_features.shape, test_labels.shape)"
   ]
  },
  {
   "cell_type": "code",
   "execution_count": 64,
   "id": "criminal-alias",
   "metadata": {},
   "outputs": [
    {
     "data": {
      "image/png": "[encoded data removed]",
      "text/plain": [
       "<Figure size 432x288 with 1 Axes>"
      ]
     },
     "metadata": {
      "needs_background": "light"
     },
     "output_type": "display_data"
    }
   ],
   "source": []
  },
  {
   "cell_type": "code",
   "execution_count": 83,
   "id": "drawn-teaching",
   "metadata": {},
   "outputs": [
    {
     "name": "stdout",
     "output_type": "stream",
     "text": [
      "[-0.01813308 -0.11651537 -0.26159218 -0.21966917 -0.19026081 -0.3103483\n",
      " -0.29287816 -0.2964832  -0.32072045 -0.32264702 -0.31996174 -0.3319555\n",
      " -0.32135141 -0.33127419]\n",
      "[ 0.01110433 -0.07177271 -0.18593263 -0.15385905 -0.12929199 -0.22362277\n",
      " -0.21262646 -0.21547349 -0.2359089  -0.23770632 -0.23466271 -0.23660192\n",
      " -0.23190642 -0.2406279 ]\n",
      "-0.000383125735584665\n"
     ]
    }
   ],
   "source": [
    "mins = np.min(data_all.iloc[:,0:14].to_numpy(), axis = 0)\n",
    "maxs = np.max(data_all.iloc[:,0:14].to_numpy(), axis = 0)\n",
    "print(mins)\n",
    "print(maxs)\n",
    "print(train.iloc[15,1])\n",
    "clm = data_all.iloc[:,0:14].columns"
   ]
  },
  {
   "cell_type": "code",
   "execution_count": 92,
   "id": "headed-traffic",
   "metadata": {},
   "outputs": [],
   "source": [
    "f_norm = normer(train.iloc[:, 1:15])\n",
    "l_norm = normer(train.iloc[:, 19:33])"
   ]
  },
  {
   "cell_type": "code",
   "execution_count": 93,
   "id": "arranged-airport",
   "metadata": {},
   "outputs": [],
   "source": [
    "together = f_norm.join(l_norm)\n",
    "together.to_excel(\"F:\\ML\\Tabriz Uni\\Phase Full Norm.xlsx\", sheet_name=\"Phase\", engine='openpyxl')"
   ]
  },
  {
   "cell_type": "code",
   "execution_count": 81,
   "id": "comic-husband",
   "metadata": {},
   "outputs": [
    {
     "data": {
      "text/html": [
       "<div>\n",
       "<style scoped>\n",
       "    .dataframe tbody tr th:only-of-type {\n",
       "        vertical-align: middle;\n",
       "    }\n",
       "\n",
       "    .dataframe tbody tr th {\n",
       "        vertical-align: top;\n",
       "    }\n",
       "\n",
       "    .dataframe thead th {\n",
       "        text-align: right;\n",
       "    }\n",
       "</style>\n",
       "<table border=\"1\" class=\"dataframe\">\n",
       "  <thead>\n",
       "    <tr style=\"text-align: right;\">\n",
       "      <th></th>\n",
       "      <th>P1</th>\n",
       "      <th>P2</th>\n",
       "      <th>P3</th>\n",
       "      <th>P4</th>\n",
       "      <th>P5</th>\n",
       "      <th>P6</th>\n",
       "      <th>P7</th>\n",
       "      <th>P8</th>\n",
       "      <th>P9</th>\n",
       "      <th>P10</th>\n",
       "      <th>P11</th>\n",
       "      <th>P12</th>\n",
       "      <th>P13</th>\n",
       "      <th>P14</th>\n",
       "      <th>Null1</th>\n",
       "      <th>Null2</th>\n",
       "      <th>Label</th>\n",
       "    </tr>\n",
       "  </thead>\n",
       "  <tbody>\n",
       "    <tr>\n",
       "      <th>0</th>\n",
       "      <td>-0.006558</td>\n",
       "      <td>-0.094047</td>\n",
       "      <td>-0.225453</td>\n",
       "      <td>-0.189003</td>\n",
       "      <td>-0.162161</td>\n",
       "      <td>-0.275023</td>\n",
       "      <td>-0.257423</td>\n",
       "      <td>-0.260549</td>\n",
       "      <td>-0.285056</td>\n",
       "      <td>-0.287141</td>\n",
       "      <td>-0.284921</td>\n",
       "      <td>-0.294028</td>\n",
       "      <td>-0.284869</td>\n",
       "      <td>-0.291754</td>\n",
       "      <td>-0.29</td>\n",
       "      <td>-0.29</td>\n",
       "      <td>0</td>\n",
       "    </tr>\n",
       "    <tr>\n",
       "      <th>1</th>\n",
       "      <td>-0.000383</td>\n",
       "      <td>-0.093502</td>\n",
       "      <td>-0.219342</td>\n",
       "      <td>-0.184278</td>\n",
       "      <td>-0.158287</td>\n",
       "      <td>-0.267094</td>\n",
       "      <td>-0.249387</td>\n",
       "      <td>-0.252550</td>\n",
       "      <td>-0.275946</td>\n",
       "      <td>-0.278021</td>\n",
       "      <td>-0.275968</td>\n",
       "      <td>-0.285223</td>\n",
       "      <td>-0.276689</td>\n",
       "      <td>-0.284514</td>\n",
       "      <td>-0.29</td>\n",
       "      <td>-0.29</td>\n",
       "      <td>0</td>\n",
       "    </tr>\n",
       "    <tr>\n",
       "      <th>2</th>\n",
       "      <td>-0.011391</td>\n",
       "      <td>-0.100946</td>\n",
       "      <td>-0.231202</td>\n",
       "      <td>-0.193325</td>\n",
       "      <td>-0.167554</td>\n",
       "      <td>-0.270741</td>\n",
       "      <td>-0.257431</td>\n",
       "      <td>-0.260650</td>\n",
       "      <td>-0.282868</td>\n",
       "      <td>-0.284883</td>\n",
       "      <td>-0.281829</td>\n",
       "      <td>-0.287202</td>\n",
       "      <td>-0.281351</td>\n",
       "      <td>-0.289234</td>\n",
       "      <td>-0.29</td>\n",
       "      <td>-0.29</td>\n",
       "      <td>0</td>\n",
       "    </tr>\n",
       "    <tr>\n",
       "      <th>3</th>\n",
       "      <td>0.000771</td>\n",
       "      <td>-0.090737</td>\n",
       "      <td>-0.214861</td>\n",
       "      <td>-0.179644</td>\n",
       "      <td>-0.153558</td>\n",
       "      <td>-0.262373</td>\n",
       "      <td>-0.242862</td>\n",
       "      <td>-0.245946</td>\n",
       "      <td>-0.269602</td>\n",
       "      <td>-0.271788</td>\n",
       "      <td>-0.270654</td>\n",
       "      <td>-0.281037</td>\n",
       "      <td>-0.272541</td>\n",
       "      <td>-0.275815</td>\n",
       "      <td>-0.29</td>\n",
       "      <td>-0.29</td>\n",
       "      <td>0</td>\n",
       "    </tr>\n",
       "    <tr>\n",
       "      <th>4</th>\n",
       "      <td>0.001446</td>\n",
       "      <td>-0.087719</td>\n",
       "      <td>-0.217632</td>\n",
       "      <td>-0.181735</td>\n",
       "      <td>-0.155323</td>\n",
       "      <td>-0.259672</td>\n",
       "      <td>-0.244883</td>\n",
       "      <td>-0.248099</td>\n",
       "      <td>-0.271227</td>\n",
       "      <td>-0.273087</td>\n",
       "      <td>-0.269934</td>\n",
       "      <td>-0.277168</td>\n",
       "      <td>-0.269093</td>\n",
       "      <td>-0.278743</td>\n",
       "      <td>-0.29</td>\n",
       "      <td>-0.29</td>\n",
       "      <td>0</td>\n",
       "    </tr>\n",
       "  </tbody>\n",
       "</table>\n",
       "</div>"
      ],
      "text/plain": [
       "         P1        P2        P3        P4        P5        P6        P7  \\\n",
       "0 -0.006558 -0.094047 -0.225453 -0.189003 -0.162161 -0.275023 -0.257423   \n",
       "1 -0.000383 -0.093502 -0.219342 -0.184278 -0.158287 -0.267094 -0.249387   \n",
       "2 -0.011391 -0.100946 -0.231202 -0.193325 -0.167554 -0.270741 -0.257431   \n",
       "3  0.000771 -0.090737 -0.214861 -0.179644 -0.153558 -0.262373 -0.242862   \n",
       "4  0.001446 -0.087719 -0.217632 -0.181735 -0.155323 -0.259672 -0.244883   \n",
       "\n",
       "         P8        P9       P10       P11       P12       P13       P14  \\\n",
       "0 -0.260549 -0.285056 -0.287141 -0.284921 -0.294028 -0.284869 -0.291754   \n",
       "1 -0.252550 -0.275946 -0.278021 -0.275968 -0.285223 -0.276689 -0.284514   \n",
       "2 -0.260650 -0.282868 -0.284883 -0.281829 -0.287202 -0.281351 -0.289234   \n",
       "3 -0.245946 -0.269602 -0.271788 -0.270654 -0.281037 -0.272541 -0.275815   \n",
       "4 -0.248099 -0.271227 -0.273087 -0.269934 -0.277168 -0.269093 -0.278743   \n",
       "\n",
       "   Null1  Null2  Label  \n",
       "0  -0.29  -0.29      0  \n",
       "1  -0.29  -0.29      0  \n",
       "2  -0.29  -0.29      0  \n",
       "3  -0.29  -0.29      0  \n",
       "4  -0.29  -0.29      0  "
      ]
     },
     "execution_count": 81,
     "metadata": {},
     "output_type": "execute_result"
    }
   ],
   "source": []
  },
  {
   "cell_type": "code",
   "execution_count": null,
   "id": "blessed-acrobat",
   "metadata": {},
   "outputs": [],
   "source": []
  }
 ],
 "metadata": {
  "kernelspec": {
   "display_name": "Python 3",
   "language": "python",
   "name": "python3"
  },
  "language_info": {
   "codemirror_mode": {
    "name": "ipython",
    "version": 3
   },
   "file_extension": ".py",
   "mimetype": "text/x-python",
   "name": "python",
   "nbconvert_exporter": "python",
   "pygments_lexer": "ipython3",
   "version": "3.8.8"
  }
 },
 "nbformat": 4,
 "nbformat_minor": 5
}
