{
 "cells": [
  {
   "cell_type": "code",
   "execution_count": null,
   "metadata": {},
   "outputs": [],
   "source": [
    "import pathlib\n",
    "import numpy as np\n",
    "import pandas as pd\n",
    "from tensorflow.keras.utils import to_categorical"
   ]
  },
  {
   "attachments": {},
   "cell_type": "markdown",
   "metadata": {},
   "source": [
    "### Pre-Processing"
   ]
  },
  {
   "cell_type": "code",
   "execution_count": null,
   "metadata": {},
   "outputs": [],
   "source": [
    "MAIN_FOLDER = pathlib.Path(\"New_Section\")\n",
    "TRAIN_FILE = MAIN_FOLDER / \"data/CaseI-Attacks without any change.csv\"\n",
    "TEST_FILE = MAIN_FOLDER / \"data/CaseIII-Attacks after DG integration.csv\""
   ]
  },
  {
   "cell_type": "code",
   "execution_count": null,
   "metadata": {},
   "outputs": [],
   "source": [
    "processed_train_file = MAIN_FOLDER / \"data/case1_train.csv\"\n",
    "processed_test_file = MAIN_FOLDER / \"data/case3_test.csv\"\n",
    "\n",
    "def catter(label):\n",
    "    if label == \"Normal\":\n",
    "        return 0\n",
    "    else:\n",
    "        num = [int(x) for x in label.split() if x.isdigit()]\n",
    "        return num[0]\n",
    "\n",
    "def label_fix(label):\n",
    "    if label == 1010:\n",
    "        return 10\n",
    "    elif label == 1111:\n",
    "        return 11\n",
    "    elif label == 1212:\n",
    "        return 12\n",
    "    elif label == 1313:\n",
    "        return 13\n",
    "    elif label == 1414:\n",
    "        return 14\n",
    "    else:\n",
    "        return label\n",
    "    \n",
    "\n",
    "train_pd = pd.read_csv(TRAIN_FILE)\n",
    "print(train_pd[train_pd.isna().any(axis=1)])\n",
    "train_pd[\"Label\"] = train_pd[\"Label\"].apply(catter)\n",
    "train_pd.describe()"
   ]
  },
  {
   "cell_type": "code",
   "execution_count": null,
   "metadata": {},
   "outputs": [],
   "source": [
    "test_pd = pd.read_csv(TEST_FILE)\n",
    "print(test_pd[test_pd.isna().any(axis=1)])\n",
    "test_pd[\"Label\"] = test_pd[\"Label\"].apply(catter)\n",
    "test_pd[\"Label\"] = test_pd[\"Label\"].apply(label_fix)\n",
    "test_pd.describe()"
   ]
  },
  {
   "cell_type": "code",
   "execution_count": null,
   "metadata": {},
   "outputs": [],
   "source": [
    "train_pd.to_csv(processed_train_file)\n",
    "test_pd.to_csv(processed_test_file)"
   ]
  },
  {
   "cell_type": "code",
   "execution_count": null,
   "metadata": {},
   "outputs": [],
   "source": [
    "print(train_pd.Label.unique())\n",
    "print(test_pd.Label.unique())"
   ]
  },
  {
   "cell_type": "code",
   "execution_count": null,
   "metadata": {},
   "outputs": [],
   "source": [
    "def united_cat(df):\n",
    "    unq_labels = sorted(df[\"Label\"].unique())\n",
    "    label_dict = dict(zip(unq_labels, list(range(len(unq_labels)))))\n",
    "    df.Label = df[\"Label\"].map(label_dict)\n",
    "    return df, label_dict\n",
    "\n",
    "new_train_df, train_label_dict = united_cat(train_pd)\n",
    "new_test_df, test_label_dict = united_cat(test_pd)"
   ]
  },
  {
   "cell_type": "code",
   "execution_count": null,
   "metadata": {},
   "outputs": [],
   "source": [
    "y_train = new_train_df.pop(\"Label\")\n",
    "y_train = to_categorical(y_train)\n",
    "x_train = new_train_df\n",
    "\n",
    "y_test= new_test_df.pop(\"Label\")\n",
    "y_test = to_categorical(y_test)\n",
    "x_test = new_test"
   ]
  },
  {
   "cell_type": "code",
   "execution_count": null,
   "metadata": {},
   "outputs": [],
   "source": [
    "mean_x = np.mean(x_train, axis=0)\n",
    "var_x = np.var(x_train, axis=0)\n",
    "print(mean_x, var_x)"
   ]
  },
  {
   "cell_type": "code",
   "execution_count": null,
   "metadata": {},
   "outputs": [],
   "source": [
    "x_stats = pd.read_csv(MAIN_FOLDER / \"data/x_stats.csv\", index_col=0)\n",
    "x_norm_layer = tf.keras.layers.experimental.preprocessing.Normalization(mean=x_stats.loc['mean'], variance=x_stats.loc['var'])\n",
    "x_train_norm = x_norm_layer(x_train)\n",
    "x_test_norm = x_norm_layer(x_test)"
   ]
  }
 ],
 "metadata": {
  "kernelspec": {
   "display_name": "Python 3",
   "language": "python",
   "name": "python3"
  },
  "language_info": {
   "name": "python",
   "version": "3.10.6 (main, Nov 14 2022, 16:10:14) [GCC 11.3.0]"
  },
  "orig_nbformat": 4,
  "vscode": {
   "interpreter": {
    "hash": "31f2aee4e71d21fbe5cf8b01ff0e069b9275f58929596ceb00d14d90e3e16cd6"
   }
  }
 },
 "nbformat": 4,
 "nbformat_minor": 2
}
